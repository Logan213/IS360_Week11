{
 "cells": [
  {
   "cell_type": "markdown",
   "metadata": {},
   "source": [
    "# **Week 11 Assignment: Aggregation**"
   ]
  },
  {
   "cell_type": "markdown",
   "metadata": {},
   "source": [
    "## IPython Notebook Setup\n",
    "\n",
    "Import pandas library for pandas operations"
   ]
  },
  {
   "cell_type": "code",
   "execution_count": 171,
   "metadata": {
    "collapsed": true
   },
   "outputs": [],
   "source": [
    "import pandas as pd\n",
    "from pandas import DataFrame, read_csv\n",
    "%matplotlib inline\n",
    "pd.options.display.max_rows = 150"
   ]
  },
  {
   "cell_type": "markdown",
   "metadata": {},
   "source": [
    "## Open .csv file\n",
    "\n",
    "Create the `medications` object to hold the data read from passing the file location to pandas `read_csv` function.\n",
    "Below, the read .csv file is rotated from \"wide\" to \"long\" using the pandas .melt function."
   ]
  },
  {
   "cell_type": "code",
   "execution_count": 172,
   "metadata": {
    "collapsed": true
   },
   "outputs": [],
   "source": [
    "medications = pd.read_csv(r'/Users/Shared/Medications.csv')"
   ]
  },
  {
   "cell_type": "code",
   "execution_count": 173,
   "metadata": {
    "collapsed": true
   },
   "outputs": [],
   "source": [
    "meds = pd.melt(medications, id_vars=['Subject', 'Gender'], \n",
    "               value_vars=['Control', 'Medication A', 'Medication B', 'Medication C', 'Medication D'], \n",
    "               var_name= 'Medication', value_name='Heartrate')"
   ]
  },
  {
   "cell_type": "markdown",
   "metadata": {},
   "source": [
    "## Using the .groupby function\n",
    "\n",
    "Below are some examples of the pandas .groupby function and its uses:"
   ]
  },
  {
   "cell_type": "code",
   "execution_count": 178,
   "metadata": {
    "collapsed": false
   },
   "outputs": [],
   "source": [
    "med_counts = meds['Medication'].groupby(meds['Medication'])"
   ]
  },
  {
   "cell_type": "markdown",
   "metadata": {},
   "source": [
    "After storing the dataframe operated on by .groupby in \"med_counts\", we can use .describe() to show counts for each medication, and the datatype for the object."
   ]
  },
  {
   "cell_type": "code",
   "execution_count": 179,
   "metadata": {
    "collapsed": false
   },
   "outputs": [
    {
     "data": {
      "text/plain": [
       "Medication          \n",
       "Control       count               20\n",
       "              unique               1\n",
       "              top            Control\n",
       "              freq                20\n",
       "Medication A  count               20\n",
       "              unique               1\n",
       "              top       Medication A\n",
       "              freq                20\n",
       "Medication B  count               20\n",
       "              unique               1\n",
       "              top       Medication B\n",
       "              freq                20\n",
       "Medication C  count               20\n",
       "              unique               1\n",
       "              top       Medication C\n",
       "              freq                20\n",
       "Medication D  count               20\n",
       "              unique               1\n",
       "              top       Medication D\n",
       "              freq                20\n",
       "dtype: object"
      ]
     },
     "execution_count": 179,
     "metadata": {},
     "output_type": "execute_result"
    }
   ],
   "source": [
    "med_counts.describe()"
   ]
  },
  {
   "cell_type": "markdown",
   "metadata": {},
   "source": [
    "Here, we access the `'Heartrate'` field in the `meds` dataframe to get some quantitative information:"
   ]
  },
  {
   "cell_type": "code",
   "execution_count": 19,
   "metadata": {
    "collapsed": true
   },
   "outputs": [],
   "source": [
    "med_groups = meds['Heartrate'].groupby(meds['Medication'])"
   ]
  },
  {
   "cell_type": "markdown",
   "metadata": {},
   "source": [
    "We can find the mean, median, max, or min for each of the Control and four different medicaitons used in the testing:"
   ]
  },
  {
   "cell_type": "code",
   "execution_count": 181,
   "metadata": {
    "collapsed": false
   },
   "outputs": [
    {
     "data": {
      "text/plain": [
       "Medication\n",
       "Control         75.80\n",
       "Medication A    96.70\n",
       "Medication B    53.15\n",
       "Medication C    75.85\n",
       "Medication D    73.05\n",
       "Name: Heartrate, dtype: float64"
      ]
     },
     "execution_count": 181,
     "metadata": {},
     "output_type": "execute_result"
    }
   ],
   "source": [
    "med_groups.mean()"
   ]
  },
  {
   "cell_type": "code",
   "execution_count": 21,
   "metadata": {
    "collapsed": false
   },
   "outputs": [
    {
     "data": {
      "text/plain": [
       "Medication\n",
       "Control         75.5\n",
       "Medication A    98.0\n",
       "Medication B    54.5\n",
       "Medication C    79.0\n",
       "Medication D    78.5\n",
       "Name: Heartrate, dtype: float64"
      ]
     },
     "execution_count": 21,
     "metadata": {},
     "output_type": "execute_result"
    }
   ],
   "source": [
    "med_groups.median()"
   ]
  },
  {
   "cell_type": "code",
   "execution_count": 22,
   "metadata": {
    "collapsed": false
   },
   "outputs": [
    {
     "data": {
      "text/plain": [
       "Medication\n",
       "Control          88\n",
       "Medication A    110\n",
       "Medication B     66\n",
       "Medication C     92\n",
       "Medication D    100\n",
       "Name: Heartrate, dtype: int64"
      ]
     },
     "execution_count": 22,
     "metadata": {},
     "output_type": "execute_result"
    }
   ],
   "source": [
    "med_groups.max()"
   ]
  },
  {
   "cell_type": "code",
   "execution_count": 186,
   "metadata": {
    "collapsed": false
   },
   "outputs": [
    {
     "data": {
      "text/plain": [
       "Medication\n",
       "Control         65\n",
       "Medication A    85\n",
       "Medication B    40\n",
       "Medication C    60\n",
       "Medication D    42\n",
       "Name: Heartrate, dtype: int64"
      ]
     },
     "execution_count": 186,
     "metadata": {},
     "output_type": "execute_result"
    }
   ],
   "source": [
    "med_groups.min()"
   ]
  },
  {
   "cell_type": "markdown",
   "metadata": {},
   "source": [
    "Using .describe() again, we can get a summary with all of the information for the functions (and more!) used above:"
   ]
  },
  {
   "cell_type": "code",
   "execution_count": 185,
   "metadata": {
    "collapsed": false
   },
   "outputs": [
    {
     "data": {
      "text/plain": [
       "Medication         \n",
       "Control       count     20.000000\n",
       "              mean      75.800000\n",
       "              std        6.550211\n",
       "              min       65.000000\n",
       "              25%       71.250000\n",
       "              50%       75.500000\n",
       "              75%       80.250000\n",
       "              max       88.000000\n",
       "Medication A  count     20.000000\n",
       "              mean      96.700000\n",
       "              std        8.510674\n",
       "              min       85.000000\n",
       "              25%       88.500000\n",
       "              50%       98.000000\n",
       "              75%      103.250000\n",
       "              max      110.000000\n",
       "Medication B  count     20.000000\n",
       "              mean      53.150000\n",
       "              std        8.125820\n",
       "              min       40.000000\n",
       "              25%       45.000000\n",
       "              50%       54.500000\n",
       "              75%       59.000000\n",
       "              max       66.000000\n",
       "Medication C  count     20.000000\n",
       "              mean      75.850000\n",
       "              std       10.464351\n",
       "              min       60.000000\n",
       "              25%       65.000000\n",
       "              50%       79.000000\n",
       "              75%       84.250000\n",
       "              max       92.000000\n",
       "Medication D  count     20.000000\n",
       "              mean      73.050000\n",
       "              std       19.885131\n",
       "              min       42.000000\n",
       "              25%       50.000000\n",
       "              50%       78.500000\n",
       "              75%       89.500000\n",
       "              max      100.000000\n",
       "dtype: float64"
      ]
     },
     "execution_count": 185,
     "metadata": {},
     "output_type": "execute_result"
    }
   ],
   "source": [
    "med_groups.describe()"
   ]
  },
  {
   "cell_type": "code",
   "execution_count": 30,
   "metadata": {
    "collapsed": false
   },
   "outputs": [],
   "source": [
    "med_subs = meds['Heartrate'].groupby(meds['Subject'])"
   ]
  },
  {
   "cell_type": "markdown",
   "metadata": {},
   "source": [
    "Lastly, we can make one more object (`med_subs`) and access the `meds` dataframe \"Heartrate\" column, and group by test subject.  Similar to the operations above, we can get the average heartrate for all medications to see how much the heartrate for each of the test subjects varies:"
   ]
  },
  {
   "cell_type": "code",
   "execution_count": 28,
   "metadata": {
    "collapsed": false
   },
   "outputs": [
    {
     "data": {
      "text/plain": [
       "Subject\n",
       "1     65.4\n",
       "2     78.8\n",
       "3     81.6\n",
       "4     77.6\n",
       "5     78.0\n",
       "6     67.4\n",
       "7     76.2\n",
       "8     67.4\n",
       "9     73.2\n",
       "10    75.0\n",
       "11    78.2\n",
       "12    80.0\n",
       "13    77.0\n",
       "14    69.8\n",
       "15    80.0\n",
       "16    84.4\n",
       "17    75.2\n",
       "18    77.8\n",
       "19    70.0\n",
       "20    65.2\n",
       "Name: Heartrate, dtype: float64"
      ]
     },
     "execution_count": 28,
     "metadata": {},
     "output_type": "execute_result"
    }
   ],
   "source": [
    "med_subs.mean()"
   ]
  },
  {
   "cell_type": "markdown",
   "metadata": {},
   "source": [
    "## Pivot Tables in pandas\n",
    "\n",
    "The .pivot_table function can be used to create tables of data with columns and rows indicated by column headers from the dataframe object.  Below is a pivot table created with hierarchical / multi-level indexing for Gender and Subject (so all subjects that are either male or female are grouped together), and the control and different medications are column headers going across:"
   ]
  },
  {
   "cell_type": "code",
   "execution_count": 147,
   "metadata": {
    "collapsed": false,
    "scrolled": true
   },
   "outputs": [
    {
     "data": {
      "text/html": [
       "<div>\n",
       "<table border=\"1\" class=\"dataframe\">\n",
       "  <thead>\n",
       "    <tr>\n",
       "      <th></th>\n",
       "      <th></th>\n",
       "      <th colspan=\"5\" halign=\"left\">Heartrate</th>\n",
       "    </tr>\n",
       "    <tr>\n",
       "      <th></th>\n",
       "      <th>Medication</th>\n",
       "      <th>Control</th>\n",
       "      <th>Medication A</th>\n",
       "      <th>Medication B</th>\n",
       "      <th>Medication C</th>\n",
       "      <th>Medication D</th>\n",
       "    </tr>\n",
       "    <tr>\n",
       "      <th>Gender</th>\n",
       "      <th>Subject</th>\n",
       "      <th></th>\n",
       "      <th></th>\n",
       "      <th></th>\n",
       "      <th></th>\n",
       "      <th></th>\n",
       "    </tr>\n",
       "  </thead>\n",
       "  <tbody>\n",
       "    <tr>\n",
       "      <th rowspan=\"12\" valign=\"top\">Female</th>\n",
       "      <th>1</th>\n",
       "      <td>82</td>\n",
       "      <td>87</td>\n",
       "      <td>53</td>\n",
       "      <td>63</td>\n",
       "      <td>42</td>\n",
       "    </tr>\n",
       "    <tr>\n",
       "      <th>3</th>\n",
       "      <td>75</td>\n",
       "      <td>100</td>\n",
       "      <td>49</td>\n",
       "      <td>84</td>\n",
       "      <td>100</td>\n",
       "    </tr>\n",
       "    <tr>\n",
       "      <th>4</th>\n",
       "      <td>72</td>\n",
       "      <td>109</td>\n",
       "      <td>55</td>\n",
       "      <td>82</td>\n",
       "      <td>70</td>\n",
       "    </tr>\n",
       "    <tr>\n",
       "      <th>5</th>\n",
       "      <td>67</td>\n",
       "      <td>104</td>\n",
       "      <td>62</td>\n",
       "      <td>85</td>\n",
       "      <td>72</td>\n",
       "    </tr>\n",
       "    <tr>\n",
       "      <th>6</th>\n",
       "      <td>72</td>\n",
       "      <td>93</td>\n",
       "      <td>45</td>\n",
       "      <td>82</td>\n",
       "      <td>45</td>\n",
       "    </tr>\n",
       "    <tr>\n",
       "      <th>7</th>\n",
       "      <td>74</td>\n",
       "      <td>110</td>\n",
       "      <td>55</td>\n",
       "      <td>92</td>\n",
       "      <td>50</td>\n",
       "    </tr>\n",
       "    <tr>\n",
       "      <th>8</th>\n",
       "      <td>69</td>\n",
       "      <td>89</td>\n",
       "      <td>40</td>\n",
       "      <td>89</td>\n",
       "      <td>50</td>\n",
       "    </tr>\n",
       "    <tr>\n",
       "      <th>11</th>\n",
       "      <td>76</td>\n",
       "      <td>108</td>\n",
       "      <td>54</td>\n",
       "      <td>74</td>\n",
       "      <td>79</td>\n",
       "    </tr>\n",
       "    <tr>\n",
       "      <th>15</th>\n",
       "      <td>68</td>\n",
       "      <td>102</td>\n",
       "      <td>62</td>\n",
       "      <td>86</td>\n",
       "      <td>82</td>\n",
       "    </tr>\n",
       "    <tr>\n",
       "      <th>16</th>\n",
       "      <td>86</td>\n",
       "      <td>100</td>\n",
       "      <td>59</td>\n",
       "      <td>82</td>\n",
       "      <td>95</td>\n",
       "    </tr>\n",
       "    <tr>\n",
       "      <th>19</th>\n",
       "      <td>77</td>\n",
       "      <td>103</td>\n",
       "      <td>42</td>\n",
       "      <td>64</td>\n",
       "      <td>64</td>\n",
       "    </tr>\n",
       "    <tr>\n",
       "      <th>20</th>\n",
       "      <td>69</td>\n",
       "      <td>91</td>\n",
       "      <td>58</td>\n",
       "      <td>63</td>\n",
       "      <td>45</td>\n",
       "    </tr>\n",
       "    <tr>\n",
       "      <th rowspan=\"8\" valign=\"top\">Male</th>\n",
       "      <th>2</th>\n",
       "      <td>85</td>\n",
       "      <td>87</td>\n",
       "      <td>66</td>\n",
       "      <td>60</td>\n",
       "      <td>96</td>\n",
       "    </tr>\n",
       "    <tr>\n",
       "      <th>9</th>\n",
       "      <td>74</td>\n",
       "      <td>85</td>\n",
       "      <td>42</td>\n",
       "      <td>87</td>\n",
       "      <td>78</td>\n",
       "    </tr>\n",
       "    <tr>\n",
       "      <th>10</th>\n",
       "      <td>78</td>\n",
       "      <td>87</td>\n",
       "      <td>45</td>\n",
       "      <td>83</td>\n",
       "      <td>82</td>\n",
       "    </tr>\n",
       "    <tr>\n",
       "      <th>12</th>\n",
       "      <td>80</td>\n",
       "      <td>90</td>\n",
       "      <td>59</td>\n",
       "      <td>76</td>\n",
       "      <td>95</td>\n",
       "    </tr>\n",
       "    <tr>\n",
       "      <th>13</th>\n",
       "      <td>81</td>\n",
       "      <td>96</td>\n",
       "      <td>51</td>\n",
       "      <td>69</td>\n",
       "      <td>88</td>\n",
       "    </tr>\n",
       "    <tr>\n",
       "      <th>14</th>\n",
       "      <td>88</td>\n",
       "      <td>103</td>\n",
       "      <td>44</td>\n",
       "      <td>65</td>\n",
       "      <td>49</td>\n",
       "    </tr>\n",
       "    <tr>\n",
       "      <th>17</th>\n",
       "      <td>65</td>\n",
       "      <td>104</td>\n",
       "      <td>56</td>\n",
       "      <td>66</td>\n",
       "      <td>85</td>\n",
       "    </tr>\n",
       "    <tr>\n",
       "      <th>18</th>\n",
       "      <td>78</td>\n",
       "      <td>86</td>\n",
       "      <td>66</td>\n",
       "      <td>65</td>\n",
       "      <td>94</td>\n",
       "    </tr>\n",
       "  </tbody>\n",
       "</table>\n",
       "</div>"
      ],
      "text/plain": [
       "               Heartrate                                                    \n",
       "Medication       Control Medication A Medication B Medication C Medication D\n",
       "Gender Subject                                                              \n",
       "Female 1              82           87           53           63           42\n",
       "       3              75          100           49           84          100\n",
       "       4              72          109           55           82           70\n",
       "       5              67          104           62           85           72\n",
       "       6              72           93           45           82           45\n",
       "       7              74          110           55           92           50\n",
       "       8              69           89           40           89           50\n",
       "       11             76          108           54           74           79\n",
       "       15             68          102           62           86           82\n",
       "       16             86          100           59           82           95\n",
       "       19             77          103           42           64           64\n",
       "       20             69           91           58           63           45\n",
       "Male   2              85           87           66           60           96\n",
       "       9              74           85           42           87           78\n",
       "       10             78           87           45           83           82\n",
       "       12             80           90           59           76           95\n",
       "       13             81           96           51           69           88\n",
       "       14             88          103           44           65           49\n",
       "       17             65          104           56           66           85\n",
       "       18             78           86           66           65           94"
      ]
     },
     "execution_count": 147,
     "metadata": {},
     "output_type": "execute_result"
    }
   ],
   "source": [
    "meds.pivot_table(index=['Gender', 'Subject'], columns='Medication')"
   ]
  },
  {
   "cell_type": "markdown",
   "metadata": {},
   "source": [
    "We can also do a similar operation, but structuring the pivot table slightly different to get Female and Male average heartrates by medication:"
   ]
  },
  {
   "cell_type": "code",
   "execution_count": 142,
   "metadata": {
    "collapsed": false
   },
   "outputs": [
    {
     "data": {
      "text/plain": [
       "Gender  Medication  \n",
       "Female  Control         73.916667\n",
       "        Medication A    99.666667\n",
       "        Medication B    52.833333\n",
       "        Medication C    78.833333\n",
       "        Medication D    66.166667\n",
       "Male    Control         78.625000\n",
       "        Medication A    92.250000\n",
       "        Medication B    53.625000\n",
       "        Medication C    71.375000\n",
       "        Medication D    83.375000\n",
       "Name: Heartrate, dtype: float64"
      ]
     },
     "execution_count": 142,
     "metadata": {},
     "output_type": "execute_result"
    }
   ],
   "source": [
    "meds.pivot_table('Heartrate', index=['Gender', 'Medication'])"
   ]
  },
  {
   "cell_type": "markdown",
   "metadata": {},
   "source": [
    "## pandas Crosstab function\n",
    "\n",
    "Lastly, the pandas crosstab function to compute group frequencies.  This will basically summarize counts of objects, but will not perform any operations on quantitative data:"
   ]
  },
  {
   "cell_type": "code",
   "execution_count": 168,
   "metadata": {
    "collapsed": false
   },
   "outputs": [
    {
     "data": {
      "text/html": [
       "<div>\n",
       "<table border=\"1\" class=\"dataframe\">\n",
       "  <thead>\n",
       "    <tr style=\"text-align: right;\">\n",
       "      <th>Gender</th>\n",
       "      <th>Female</th>\n",
       "      <th>Male</th>\n",
       "    </tr>\n",
       "    <tr>\n",
       "      <th>row_0</th>\n",
       "      <th></th>\n",
       "      <th></th>\n",
       "    </tr>\n",
       "  </thead>\n",
       "  <tbody>\n",
       "    <tr>\n",
       "      <th>Subject</th>\n",
       "      <td>60</td>\n",
       "      <td>40</td>\n",
       "    </tr>\n",
       "  </tbody>\n",
       "</table>\n",
       "</div>"
      ],
      "text/plain": [
       "Gender   Female  Male\n",
       "row_0                \n",
       "Subject      60    40"
      ]
     },
     "execution_count": 168,
     "metadata": {},
     "output_type": "execute_result"
    }
   ],
   "source": [
    "pd.crosstab(['Subject'], meds.Gender)"
   ]
  }
 ],
 "metadata": {
  "kernelspec": {
   "display_name": "Python 2",
   "language": "python",
   "name": "python2"
  },
  "language_info": {
   "codemirror_mode": {
    "name": "ipython",
    "version": 2
   },
   "file_extension": ".py",
   "mimetype": "text/x-python",
   "name": "python",
   "nbconvert_exporter": "python",
   "pygments_lexer": "ipython2",
   "version": "2.7.10"
  }
 },
 "nbformat": 4,
 "nbformat_minor": 0
}
